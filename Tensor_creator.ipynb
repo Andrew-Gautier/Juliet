{
 "cells": [
  {
   "cell_type": "markdown",
   "metadata": {},
   "source": [
    "The purpose of this script is to create the tensor files necessary to remove any needed preprocessing from the model training/evaluation scripts that will be done on the remote cluster. \n"
   ]
  },
  {
   "cell_type": "code",
   "execution_count": 35,
   "metadata": {},
   "outputs": [],
   "source": [
    "# import the required libraries:\n",
    "import sentencepiece as spm\n",
    "import pandas as pd\n",
    "from keras.utils import pad_sequences\n",
    "import torch\n",
    "import torch.nn as nn\n",
    "import numpy as np\n",
    "from tqdm.notebook import tqdm\n",
    "from torch.utils.data import TensorDataset, DataLoader\n",
    "import matplotlib.pyplot as plt\n",
    "from sklearn.model_selection import train_test_split\n",
    "from torch.optim import Adam\n",
    "from sklearn.preprocessing import LabelEncoder\n",
    "import torch.nn.functional as F\n",
    "from sklearn.metrics import roc_curve, auc\n",
    "from sklearn.model_selection import train_test_split\n",
    "from Juliet2_Schema import Session,Cases, VLW, VLW2"
   ]
  },
  {
   "cell_type": "code",
   "execution_count": 36,
   "metadata": {},
   "outputs": [
    {
     "data": {
      "text/plain": [
       "True"
      ]
     },
     "execution_count": 36,
     "metadata": {},
     "output_type": "execute_result"
    }
   ],
   "source": [
    "sp = spm.SentencePieceProcessor()\n",
    "sp.Load('tokenizer.model')"
   ]
  },
  {
   "cell_type": "code",
   "execution_count": 45,
   "metadata": {},
   "outputs": [
    {
     "name": "stdout",
     "output_type": "stream",
     "text": [
      "CWE: CWE-190: Integer Overflow or Wraparound, Count: 3906\n",
      "CWE: CWE-122: Heap-based Buffer Overflow, Count: 3793\n",
      "CWE: CWE-078: Improper Neutralization of Special Elements used in an OS Command ('OS Command Injection'), Count: 3316\n",
      "CWE: CWE-121: Stack-based Buffer Overflow, Count: 3086\n",
      "CWE: CWE-191: Integer Underflow (Wrap or Wraparound), Count: 2836\n",
      "CWE: CWE-762: Mismatched Memory Management Routines, Count: 2232\n",
      "CWE: CWE-134: Uncontrolled Format String, Count: 2142\n",
      "CWE: CWE-036: Absolute Path Traversal, Count: 1766\n",
      "CWE: CWE-023: Relative Path Traversal, Count: 1766\n",
      "CWE: CWE-590: Free of Memory not on the Heap, Count: 1675\n",
      "CWE: CWE-369: Divide By Zero, Count: 1490\n",
      "CWE: CWE-789: Uncontrolled Memory Allocation, Count: 1373\n",
      "CWE: CWE-129: Improper Validation of Array Index, Count: 1368\n",
      "CWE: CWE-127: Buffer Under-read, Count: 1300\n",
      "CWE: CWE-124: Buffer Underwrite ('Buffer Underflow'), Count: 1300\n",
      "CWE: CWE-400: Uncontrolled Resource Consumption ('Resource Exhaustion'), Count: 1208\n",
      "CWE: CWE-197: Numeric Truncation Error, Count: 1152\n",
      "CWE: CWE-089: Improper Neutralization of Special Elements used in an SQL Command ('SQL Injection'), Count: 1140\n",
      "CWE: CWE-401: Improper Release of Memory Before Removing Last Reference ('Memory Leak'), Count: 1074\n",
      "CWE: CWE-126: Buffer Over-read, Count: 1026\n",
      "CWE: CWE-457: Use of Uninitialized Variable, Count: 862\n",
      "CWE: CWE-690: Null Deref from Return, Count: 752\n",
      "CWE: CWE-195: Signed to Unsigned Conversion Error, Count: 744\n",
      "CWE: CWE-194: Unexpected Sign Extension, Count: 744\n",
      "CWE: CWE-253: Incorrect Check of Function Return Value, Count: 701\n",
      "CWE: CWE-113: Improper Neutralization of CRLF Sequences in HTTP Headers ('HTTP Response Splitting'), Count: 684\n",
      "CWE: CWE-252: Unchecked Return Value, Count: 647\n",
      "CWE: CWE-415: Double Free, Count: 602\n",
      "CWE: CWE-758: Reliance on Undefined, Unspecified, or Implementation-Defined Behavior, Count: 581\n",
      "CWE: CWE-606: Unchecked Input for Loop Condition, Count: 528\n",
      "CWE: CWE-090: Improper Neutralization of Special Elements used in an LDAP Query ('LDAP Injection'), Count: 526\n",
      "CWE: CWE-416: Use After Free, Count: 419\n",
      "CWE: CWE-114: Process Control, Count: 389\n",
      "CWE: CWE-563: Assignment to Variable without Use ('Unused Variable'), Count: 386\n",
      "CWE: CWE-680: Integer Overflow to Buffer Overflow, Count: 372\n",
      "CWE: CWE-476: NULL Pointer Dereference, Count: 362\n",
      "CWE: CWE-761: Free of Pointer not at Start of Buffer, Count: 360\n",
      "CWE: CWE-319: Cleartext Transmission of Sensitive Information, Count: 358\n",
      "CWE: CWE-080: Improper Neutralization of Script-Related HTML Tags in a Web Page (Basic XSS), Count: 324\n",
      "CWE: CWE-398: Indicator of Poor Code Quality, Count: 318\n",
      "CWE: CWE-427: Uncontrolled Search Path Element, Count: 310\n",
      "CWE: CWE-506: Embedded Malicious Code, Count: 274\n",
      "CWE: CWE-272: Least Privilege Violation, Count: 252\n",
      "CWE: CWE-015: External Control of System or Configuration Setting, Count: 247\n",
      "CWE: CWE-404: Improper Resource Shutdown or Release, Count: 245\n",
      "CWE: CWE-617: Reachable Assertion, Count: 238\n",
      "CWE: CWE-643: Improper Neutralization of Data within XPath Expressions ('XPath Injection'), Count: 228\n",
      "CWE: CWE-470: Use of Externally-Controlled Input to Select Classes or Code ('Unsafe Reflection'), Count: 216\n",
      "CWE: CWE-284: Improper Access Control, Count: 216\n",
      "CWE: CWE-546: Suspicious Comment, Count: 175\n",
      "CWE: CWE-665: Improper Initialization, Count: 165\n",
      "CWE: CWE-601: URL Redirection to Untrusted Site ('Open Redirect'), Count: 162\n",
      "CWE: CWE-083: Improper Neutralization of Script in Attributes in a Web Page, Count: 162\n",
      "CWE: CWE-081: Improper Neutralization of Script in an Error Message Web Page, Count: 162\n",
      "CWE: CWE-377: Insecure Temporary File, Count: 144\n",
      "CWE: CWE-510: Trapdoor, Count: 136\n",
      "CWE: CWE-259: Use of Hard-coded Password, Count: 136\n",
      "CWE: CWE-426: Untrusted Search Path, Count: 124\n",
      "CWE: CWE-390: Detection of Error Condition Without Action, Count: 124\n",
      "CWE: CWE-511: Logic/Time Bomb, Count: 123\n",
      "CWE: CWE-675: Duplicate Operations on Resource, Count: 120\n",
      "CWE: CWE-325: Missing Required Cryptographic Step, Count: 106\n",
      "CWE: CWE-681: Incorrect Conversion between Numeric Types, Count: 105\n",
      "CWE: CWE-123: Write-what-where Condition, Count: 93\n",
      "CWE: CWE-775: Missing Release of File Descriptor or Handle after Effective Lifetime, Count: 92\n",
      "CWE: CWE-773: Missing Reference to Active File Descriptor or Handle, Count: 90\n",
      "CWE: CWE-666: Operation on Resource in Wrong Phase of Lifetime, Count: 90\n",
      "CWE: CWE-226: Sensitive Information Uncleared Before Release, Count: 89\n",
      "CWE: CWE-396: Declaration of Catch for Generic Exception, Count: 88\n",
      "CWE: CWE-327: Use of a Broken or Risky Cryptographic Algorithm, Count: 88\n",
      "CWE: CWE-591: Sensitive Data Storage in Improperly Locked Memory, Count: 82\n",
      "CWE: CWE-321: Use of Hard-coded Cryptographic Key, Count: 80\n",
      "CWE: CWE-256: Plaintext Storage of a Password, Count: 79\n",
      "CWE: CWE-244: Improper Clearing of Heap Memory Before Release ('Heap Inspection'), Count: 72\n",
      "CWE: CWE-459: Incomplete Cleanup, Count: 70\n",
      "CWE: CWE-477: Use of Obsolete Functions, Count: 68\n",
      "CWE: CWE-135: Incorrect Calculation of Multi-Byte String Length, Count: 60\n",
      "CWE: CWE-467: Use of sizeof() on a Pointer Type, Count: 54\n",
      "CWE: CWE-391: Unchecked Error Condition, Count: 54\n",
      "CWE: CWE-328: Reversible One-Way Hash, Count: 54\n",
      "CWE: CWE-535: Information Exposure Through Shell Error Message, Count: 53\n",
      "CWE: CWE-534: Information Exposure Through Debug Log Files, Count: 53\n",
      "CWE: CWE-526: Information Exposure Through Environmental Variables, Count: 52\n",
      "CWE: CWE-338: Use of Cryptographically Weak Pseudo-Random Number Generator (PRNG), Count: 52\n",
      "CWE: CWE-193: Off-by-one Error, Count: 51\n",
      "CWE: CWE-843: Access of Resource Using Incompatible Type ('Type Confusion'), Count: 50\n",
      "CWE: CWE-588: Attempt to Access Child of a Non-structure Pointer, Count: 50\n",
      "CWE: CWE-483: Incorrect Block Delimitation, Count: 39\n",
      "CWE: CWE-468: Incorrect Pointer Scaling, Count: 37\n",
      "CWE: CWE-475: Undefined Behavior for Input to API, Count: 36\n",
      "CWE: CWE-469: Use of Pointer Subtraction to Determine Size, Count: 36\n",
      "CWE: CWE-367: Time-of-check Time-of-use (TOCTOU) Race Condition, Count: 36\n",
      "CWE: CWE-366: Race Condition within a Thread, Count: 36\n",
      "CWE: CWE-273: Improper Check for Dropped Privileges, Count: 36\n",
      "CWE: CWE-188: Reliance on Data/Memory Layout, Count: 36\n",
      "CWE: CWE-615: Information Exposure Through Comments, Count: 35\n",
      "CWE: CWE-605: Multiple Binds to the Same Port, Count: 35\n",
      "CWE: CWE-484: Omitted Break Statement in Switch, Count: 35\n",
      "CWE: CWE-482: Comparing instead of Assigning, Count: 35\n",
      "CWE: CWE-481: Assigning instead of Comparing, Count: 35\n",
      "CWE: CWE-478: Missing Default Case in Switch Statement, Count: 35\n",
      "CWE: CWE-382: J2EE Bad Practices: Use of System.exit(), Count: 34\n",
      "CWE: CWE-209: Information Exposure Through an Error Message, Count: 34\n",
      "CWE: CWE-571: Expression is Always True, Count: 32\n",
      "CWE: CWE-570: Expression is Always False, Count: 32\n",
      "CWE: CWE-464: Addition of Data Structure Sentinel, Count: 31\n",
      "CWE: CWE-176: Improper Handling of Unicode Encoding, Count: 30\n",
      "CWE: CWE-672: Operation on a Resource after Expiration or Release, Count: 29\n",
      "CWE: CWE-397: Declaration of Throws for Generic Exception, Count: 24\n",
      "CWE: CWE-832: Unlock of a Resource that is not Locked, Count: 19\n",
      "CWE: CWE-667: Improper Locking, Count: 19\n",
      "CWE: CWE-315: Cleartext Storage of Sensitive Information in a Cookie, Count: 19\n",
      "CWE: CWE-785: Use of Path Manipulation Function without Maximum-sized Buffer, Count: 18\n",
      "CWE: CWE-780: Use of RSA Algorithm without OAEP, Count: 18\n",
      "CWE: CWE-688: Function Call With Incorrect Variable or Reference as Argument, Count: 18\n",
      "CWE: CWE-685: Function Call With Incorrect Number of Arguments, Count: 18\n",
      "CWE: CWE-676: Use of Potentially Dangerous Function, Count: 18\n",
      "CWE: CWE-620: Unverified Password Change, Count: 18\n",
      "CWE: CWE-587: Assignment of a Fixed Address to a Pointer, Count: 18\n",
      "CWE: CWE-566: Authorization Bypass Through User-Controlled SQL Primary Key, Count: 18\n",
      "CWE: CWE-480: Use of Incorrect Operator, Count: 18\n",
      "CWE: CWE-479: Signal Handler Use of a Non-reentrant Function, Count: 18\n",
      "CWE: CWE-364: Signal Handler Race Condition, Count: 18\n",
      "CWE: CWE-247: DEPRECATED (Duplicate): Reliance on DNS Lookups in a Security Decision, Count: 18\n",
      "CWE: CWE-242: Use of Inherently Dangerous Function, Count: 18\n",
      "CWE: CWE-223: Omission of Security-relevant Information, Count: 18\n",
      "CWE: CWE-222: Truncation of Security-relevant Information, Count: 18\n",
      "CWE: CWE-196: Unsigned to Signed Conversion Error, Count: 18\n",
      "CWE: CWE-760: Use of a One-Way Hash with a Predictable Salt, Count: 17\n",
      "CWE: CWE-759: Use of a One-Way Hash without a Salt, Count: 17\n",
      "CWE: CWE-698: Execution After Redirect (EAR), Count: 17\n",
      "CWE: CWE-614: Sensitive Cookie in HTTPS Session Without 'Secure' Attribute, Count: 17\n",
      "CWE: CWE-613: Insufficient Session Expiration, Count: 17\n",
      "CWE: CWE-598: Information Exposure Through Query Strings in GET Request, Count: 17\n",
      "CWE: CWE-597: Use of Wrong Operator in String Comparison, Count: 17\n",
      "CWE: CWE-586: Explicit Call to Finalize(), Count: 17\n",
      "CWE: CWE-584: Return Inside Finally Block, Count: 17\n",
      "CWE: CWE-572: Call to Thread run() instead of start(), Count: 17\n",
      "CWE: CWE-549: Missing Password Field Masking, Count: 17\n",
      "CWE: CWE-539: Information Exposure Through Persistent Cookies, Count: 17\n",
      "CWE: CWE-533: Information Exposure Through Server Log Files, Count: 17\n",
      "CWE: CWE-523: Unprotected Transport of Credentials, Count: 17\n",
      "CWE: CWE-486: Comparison of Classes by Name, Count: 17\n",
      "CWE: CWE-395: Use of NullPointerException Catch to Detect NULL Pointer Dereference, Count: 17\n",
      "CWE: CWE-379: Creation of Temporary File in Directory with Incorrect Permissions, Count: 17\n",
      "CWE: CWE-378: Creation of Temporary File With Insecure Permissions, Count: 17\n",
      "CWE: CWE-336: Same Seed in PRNG, Count: 17\n",
      "CWE: CWE-329: Not Using a Random IV with CBC Mode, Count: 17\n",
      "CWE: CWE-383: J2EE Bad Practices: Direct Use of Threads, Count: 16\n",
      "CWE: CWE-835: Loop with Unreachable Exit Condition ('Infinite Loop'), Count: 12\n",
      "CWE: CWE-833: Deadlock, Count: 6\n",
      "CWE: CWE-674: Uncontrolled Recursion, Count: 4\n",
      "CWE: CWE-562: Return of Stack Variable Address, Count: 3\n",
      "CWE: CWE-561: Dead Code, Count: 3\n",
      "CWE: CWE-772: Missing Release of Resource after Effective Lifetime, Count: 2\n",
      "CWE: CWE-765: Multiple Unlocks of a Critical Resource, Count: 2\n",
      "CWE: CWE-764: Multiple Locks of a Critical Resource, Count: 2\n",
      "CWE: CWE-609: Double-Checked Locking, Count: 2\n",
      "CWE: CWE-585: Empty Synchronized Block, Count: 2\n",
      "CWE: CWE-581: Object Model Violation: Just One of Equals and Hashcode Defined, Count: 2\n",
      "CWE: CWE-568: finalize() Method Without super.finalize(), Count: 2\n",
      "CWE: CWE-500: Public Static Field Not Marked Final, Count: 2\n",
      "CWE: CWE-607: Public Static Final Field References Mutable Object, Count: 1\n",
      "CWE: CWE-600: Uncaught Exception in Servlet , Count: 1\n",
      "CWE: CWE-582: Array Declared Public, Final, and Static, Count: 1\n",
      "CWE: CWE-580: clone() Method Without super.clone(), Count: 1\n",
      "CWE: CWE-579: J2EE Bad Practices: Non-serializable Object Stored in Session, Count: 1\n",
      "CWE: CWE-499: Serializable Class Containing Sensitive Data, Count: 1\n",
      "CWE: CWE-491: Public cloneable() Method Without Final ('Object Hijack'), Count: 1\n",
      "CWE: CWE-440: Expected Behavior Violation, Count: 1\n",
      "CWE: CWE-248: Uncaught Exception, Count: 1\n",
      "CWE: CWE-111: Direct Use of Unsafe JNI, Count: 1\n"
     ]
    }
   ],
   "source": [
    "from sqlalchemy import create_engine, func\n",
    "session = Session()\n",
    "records = session.query(VLW2).all()\n",
    "\n",
    "query = session.query(VLW.cwe, func.count(VLW.cwe).label('total')).group_by(VLW.cwe).order_by(func.count(VLW.cwe).desc())\n",
    "\n",
    "for cwe_class, count in query:\n",
    "    print(f\"CWE: {cwe_class}, Count: {count}\")"
   ]
  },
  {
   "cell_type": "code",
   "execution_count": 38,
   "metadata": {},
   "outputs": [
    {
     "name": "stdout",
     "output_type": "stream",
     "text": [
      "max_length: 98\n",
      "Train Labels: tensor([0, 0, 0, 0, 0, 0, 0, 0, 0, 0, 0, 0, 0, 0, 0, 0, 0, 0, 0, 0, 0, 1, 0, 0,\n",
      "        0, 0, 0, 0, 0, 0, 0, 0, 0, 0, 0, 0, 0, 0, 0, 0])\n",
      "Test Labels: tensor([0, 0, 0, 0, 0, 0, 0, 0, 0, 0, 0, 0, 0, 0, 0, 0, 0, 0, 0, 0, 1, 0, 0, 0,\n",
      "        0, 0, 0, 0, 0, 0, 0, 0, 0, 0, 0, 0, 0, 0, 0, 0])\n"
     ]
    }
   ],
   "source": [
    "data = [record.vlw_content for record in records]\n",
    "labels  = [record.vulnerability_location  for record in records]\n",
    "\n",
    "# Split the data into train and test sets\n",
    "train_data, test_data, train_labels, test_labels = train_test_split(data, labels, test_size=0.2, random_state=42)\n",
    "# Encode sentences \n",
    "train_sequences = [[sp.EncodeAsIds(line) for line in text.split('\\n')[:40]] for text in train_data]\n",
    "test_sequences = [[sp.EncodeAsIds(line) for line in text.split('\\n')[:40]] for text in test_data]\n",
    "\n",
    "# Finding the longest indivudial tokenized sentences\n",
    "max_length_train = max(max(len(seq) for seq in text) for text in train_sequences)\n",
    "max_length_test = max(max(len(seq) for seq in text) for text in test_sequences)\n",
    "\n",
    "# Get the maximum length across both sets\n",
    "max_length = max(max_length_train, max_length_test)\n",
    "\n",
    "# Convert labels to one-hot vectors\n",
    "\n",
    "num_classes = 40  \n",
    "train_labels = torch.stack([torch.nn.functional.one_hot(torch.tensor(label), num_classes=num_classes) for label in train_labels])\n",
    "test_labels = torch.stack([torch.nn.functional.one_hot(torch.tensor(label), num_classes=num_classes) for label in test_labels])\n",
    "\n",
    "print('max_length:', max_length)\n",
    "print('Train Labels:', train_labels[0])\n",
    "print('Test Labels:', test_labels[0])\n",
    "\n"
   ]
  },
  {
   "cell_type": "code",
   "execution_count": 39,
   "metadata": {},
   "outputs": [
    {
     "name": "stdout",
     "output_type": "stream",
     "text": [
      "Train sequences shape: (40, 98)\n",
      "Test sequences shape: (40, 98)\n"
     ]
    }
   ],
   "source": [
    "# Pad each individual sequence to a length of 98\n",
    "train_sequences_padded = [pad_sequences(text, maxlen=98, padding='post') for text in train_sequences]\n",
    "test_sequences_padded = [pad_sequences(text, maxlen=98, padding='post') for text in test_sequences]\n",
    "\n",
    "print('Train sequences shape:', train_sequences_padded[0].shape)\n",
    "print('Test sequences shape:', test_sequences_padded[0].shape)"
   ]
  },
  {
   "cell_type": "code",
   "execution_count": 40,
   "metadata": {},
   "outputs": [
    {
     "name": "stdout",
     "output_type": "stream",
     "text": [
      "Number of remaining train sequences: 43335\n",
      "Number of remaining train labels: 43335\n"
     ]
    }
   ],
   "source": [
    "# Create a list of indices where the sequence length is not 40\n",
    "drop_indices = [i for i, seq in enumerate(train_sequences_padded) if len(seq) != 40]\n",
    "\n",
    "# Drop these indices from train_sequences_padded and train_labels\n",
    "train_sequences_padded = [seq for i, seq in enumerate(train_sequences_padded) if i not in drop_indices]\n",
    "train_labels = [label for i, label in enumerate(train_labels) if i not in drop_indices]\n",
    "\n",
    "# Print the number of remaining sequences and labels\n",
    "print(f\"Number of remaining train sequences: {len(train_sequences_padded)}\")\n",
    "print(f\"Number of remaining train labels: {len(train_labels)}\")"
   ]
  },
  {
   "cell_type": "code",
   "execution_count": 41,
   "metadata": {},
   "outputs": [
    {
     "name": "stdout",
     "output_type": "stream",
     "text": [
      "Number of remaining test sequences: 10838\n",
      "Number of remaining test labels: 10838\n"
     ]
    }
   ],
   "source": [
    "drop_indices_test = [i for i, seq in enumerate(test_sequences_padded) if len(seq) != 40]\n",
    "\n",
    "# Drop these indices from test_sequences_padded and test_labels\n",
    "test_sequences_padded = [seq for i, seq in enumerate(test_sequences_padded) if i not in drop_indices_test]\n",
    "test_labels = [label for i, label in enumerate(test_labels) if i not in drop_indices_test]\n",
    "\n",
    "# Print the number of remaining sequences and labels\n",
    "print(f\"Number of remaining test sequences: {len(test_sequences_padded)}\")\n",
    "print(f\"Number of remaining test labels: {len(test_labels)}\")"
   ]
  },
  {
   "cell_type": "code",
   "execution_count": 42,
   "metadata": {},
   "outputs": [
    {
     "name": "stdout",
     "output_type": "stream",
     "text": [
      "First train batch shape: torch.Size([40, 40, 98])\n",
      "First test batch shape: torch.Size([40, 40, 98])\n"
     ]
    }
   ],
   "source": [
    "train_sequences_tensor = torch.tensor(train_sequences_padded)\n",
    "# Assuming train_labels needs to be stacked for a specific reason\n",
    "train_labels = torch.stack(train_labels)  # Keep this if it's necessary for your model\n",
    "train_dataset = TensorDataset(train_sequences_tensor, train_labels)\n",
    "\n",
    "# Create a DataLoader with a specific batch size and drop_last option\n",
    "batch_size = 40\n",
    "train_loader = DataLoader(train_dataset, batch_size=batch_size, shuffle=True, drop_last=True)\n",
    "\n",
    "# Print the shape of the first batch\n",
    "first_batch = next(iter(train_loader))\n",
    "print('First train batch shape:', first_batch[0].shape)\n",
    "\n",
    "test_sequences_tensor = torch.tensor(test_sequences_padded)\n",
    "test_labels = torch.stack(test_labels)\n",
    "test_dataset = TensorDataset(test_sequences_tensor, test_labels)\n",
    "batch_size = 40\n",
    "\n",
    "test_loader = DataLoader(test_dataset, batch_size=batch_size, shuffle=True, drop_last=True)\n",
    "\n",
    "first_batch = next(iter(test_loader))\n",
    "print('First test batch shape:', first_batch[0].shape)\n"
   ]
  },
  {
   "cell_type": "code",
   "execution_count": null,
   "metadata": {},
   "outputs": [],
   "source": [
    "print('train_sequences_tensor shape:', train_sequences_tensor.shape)\n",
    "print('train_sequences_tensor dtype:', train_sequences_tensor.dtype)\n",
    "print('train_labels_tensor shape:', train_labels.shape)\n",
    "print('train_labels_tensor dtype:', train_labels.dtype)"
   ]
  },
  {
   "cell_type": "code",
   "execution_count": 43,
   "metadata": {},
   "outputs": [],
   "source": [
    "torch.save(train_sequences_tensor, 'vlw2_train_sequences_tensor.pt')\n",
    "torch.save(train_labels, 'vlw2_train_labels.pt')\n",
    "\n",
    "# Save testing sequences and labels\n",
    "torch.save(test_sequences_tensor, 'vlw2_test_sequences_tensor.pt')\n",
    "torch.save(test_labels, 'vlw2_test_labels.pt')"
   ]
  }
 ],
 "metadata": {
  "kernelspec": {
   "display_name": "venv",
   "language": "python",
   "name": "python3"
  },
  "language_info": {
   "codemirror_mode": {
    "name": "ipython",
    "version": 3
   },
   "file_extension": ".py",
   "mimetype": "text/x-python",
   "name": "python",
   "nbconvert_exporter": "python",
   "pygments_lexer": "ipython3",
   "version": "3.11.2"
  }
 },
 "nbformat": 4,
 "nbformat_minor": 2
}
