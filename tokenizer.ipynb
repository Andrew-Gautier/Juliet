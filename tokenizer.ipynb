{
 "cells": [
  {
   "cell_type": "markdown",
   "metadata": {},
   "source": [
    "2-7-24\n",
    "\n",
    "This is the record of attempts to take the first corpus, 1.0. and train a model on the embeddings created from it.\n",
    "\n"
   ]
  },
  {
   "cell_type": "code",
   "execution_count": 26,
   "metadata": {},
   "outputs": [
    {
     "name": "stdout",
     "output_type": "stream",
     "text": [
      "Training tokenizer:\n",
      "Error training tokenizer: Internal: D:\\a\\sentencepiece\\sentencepiece\\src\\trainer_interface.cc(429) [!sentences_.empty()] \n",
      "Training tokenizer:\n",
      "Error training tokenizer: Internal: D:\\a\\sentencepiece\\sentencepiece\\src\\trainer_interface.cc(429) [!sentences_.empty()] \n"
     ]
    },
    {
     "ename": "KeyboardInterrupt",
     "evalue": "",
     "output_type": "error",
     "traceback": [
      "\u001b[1;31m---------------------------------------------------------------------------\u001b[0m",
      "\u001b[1;31mKeyboardInterrupt\u001b[0m                         Traceback (most recent call last)",
      "Cell \u001b[1;32mIn[26], line 53\u001b[0m\n\u001b[0;32m     51\u001b[0m \u001b[38;5;66;03m# Iterate training for the specified number of iterations\u001b[39;00m\n\u001b[0;32m     52\u001b[0m \u001b[38;5;28;01mfor\u001b[39;00m iteration \u001b[38;5;129;01min\u001b[39;00m \u001b[38;5;28mrange\u001b[39m(num_iterations):\n\u001b[1;32m---> 53\u001b[0m     temp_input_file \u001b[38;5;241m=\u001b[39m \u001b[43mpreprocess\u001b[49m\u001b[43m(\u001b[49m\u001b[43minput_file\u001b[49m\u001b[43m)\u001b[49m\n\u001b[0;32m     54\u001b[0m     \u001b[38;5;28;01mif\u001b[39;00m temp_input_file:\n\u001b[0;32m     55\u001b[0m         train_tokenizer(temp_input_file, output_model_prefix, vocab_size, model_type)\n",
      "Cell \u001b[1;32mIn[26], line 22\u001b[0m, in \u001b[0;36mpreprocess\u001b[1;34m(input_file)\u001b[0m\n\u001b[0;32m     20\u001b[0m text \u001b[38;5;241m=\u001b[39m text\u001b[38;5;241m.\u001b[39mreplace(\u001b[38;5;124m\"\u001b[39m\u001b[38;5;124m \u001b[39m\u001b[38;5;124m\"\u001b[39m, \u001b[38;5;124m\"\u001b[39m\u001b[38;5;124m SPACE\u001b[39m\u001b[38;5;124m\"\u001b[39m)\n\u001b[0;32m     21\u001b[0m text \u001b[38;5;241m=\u001b[39m text\u001b[38;5;241m.\u001b[39mreplace(\u001b[38;5;124m\"\u001b[39m\u001b[38;5;130;01m\\n\u001b[39;00m\u001b[38;5;124m\"\u001b[39m, \u001b[38;5;124m\"\u001b[39m\u001b[38;5;124m NEWLINE\u001b[39m\u001b[38;5;124m\"\u001b[39m)\n\u001b[1;32m---> 22\u001b[0m text \u001b[38;5;241m=\u001b[39m \u001b[43mtext\u001b[49m\u001b[38;5;241;43m.\u001b[39;49m\u001b[43mreplace\u001b[49m\u001b[43m(\u001b[49m\u001b[38;5;124;43m\"\u001b[39;49m\u001b[38;5;130;43;01m\\t\u001b[39;49;00m\u001b[38;5;124;43m\"\u001b[39;49m\u001b[43m,\u001b[49m\u001b[43m \u001b[49m\u001b[38;5;124;43m\"\u001b[39;49m\u001b[38;5;124;43m TAB\u001b[39;49m\u001b[38;5;124;43m\"\u001b[39;49m\u001b[43m)\u001b[49m\n\u001b[0;32m     24\u001b[0m temp_input_file \u001b[38;5;241m=\u001b[39m input_file \u001b[38;5;241m+\u001b[39m \u001b[38;5;124m\"\u001b[39m\u001b[38;5;124m.preprocessed\u001b[39m\u001b[38;5;124m\"\u001b[39m\n\u001b[0;32m     25\u001b[0m \u001b[38;5;28;01mtry\u001b[39;00m:\n",
      "\u001b[1;31mKeyboardInterrupt\u001b[0m: "
     ]
    }
   ],
   "source": [
    "import sentencepiece as spm\n",
    "from tqdm import tqdm\n",
    "import os\n",
    "\n",
    "input_file = \"Juliet2_corpus.txt\"\n",
    "output_model_prefix = \"m\"\n",
    "vocab_size = 15000\n",
    "model_type = \"bpe\"\n",
    "\n",
    "def preprocess(input_file):\n",
    "    try:\n",
    "        with open(input_file, \"r\", encoding='utf-8') as f:\n",
    "            text = f.read()\n",
    "    except FileNotFoundError:\n",
    "        print(f\"Error: Input file '{input_file}' not found.\")\n",
    "        return None\n",
    "\n",
    "    # Preprocessing steps\n",
    "    text = text.replace(\" \", \" SPACE\")\n",
    "    text = text.replace(\"\\n\", \" NEWLINE\")\n",
    "    text = text.replace(\"\\t\", \" TAB\")\n",
    "\n",
    "    temp_input_file = input_file + \".preprocessed\"\n",
    "    try:\n",
    "        with open(temp_input_file, 'w', encoding='utf-8') as file:\n",
    "            file.write(text)\n",
    "    except OSError as e:\n",
    "        print(f\"Error writing preprocessed file: {e}\")\n",
    "        return None\n",
    "\n",
    "    return temp_input_file\n",
    "\n",
    "def train_tokenizer(input_file, output_model_prefix, vocab_size, model_type):\n",
    "    tqdm.write(\"Training tokenizer:\")\n",
    "    try:\n",
    "        spm.SentencePieceTrainer.train(\n",
    "            input=input_file,\n",
    "            model_prefix=output_model_prefix,\n",
    "            vocab_size=vocab_size,\n",
    "            model_type=model_type,\n",
    "            num_threads=4,  # Set the number of threads for parallel processing during training\n",
    "            # Other training parameters as needed\n",
    "        )\n",
    "    except Exception as e:\n",
    "        print(f\"Error training tokenizer: {e}\")\n",
    "        return\n",
    "\n",
    "    tqdm.write(\"Training complete.\")\n",
    "\n",
    "# Iterate training for the specified number of iterations:\n",
    "temp_input_file = preprocess(input_file)\n",
    "if temp_input_file:\n",
    "    train_tokenizer(temp_input_file, output_model_prefix, vocab_size, model_type)\n",
    "    # Load the trained model\n",
    "    sp = spm.SentencePieceProcessor()\n",
    "    sp.Load(f\"{output_model_prefix}.model\")\n",
    "else:\n",
    "    print(\"Preprocessing failed. Cannot train tokenizer.\")\n"
   ]
  },
  {
   "cell_type": "code",
   "execution_count": 25,
   "metadata": {},
   "outputs": [
    {
     "name": "stdout",
     "output_type": "stream",
     "text": [
      "Starting tokenizer test:\n",
      "Total lines: 4876180\n",
      "Tokenization Accuracy: 49.58%\n",
      "Tokenizer test complete.\n"
     ]
    }
   ],
   "source": [
    "def test_tokenizer(tokenizer, test_lines):\n",
    "    correct_tokenizations = 0\n",
    "    total_tokenizations = len(test_lines)\n",
    "\n",
    "    for line in test_lines:\n",
    "        # Assuming test_lines is a list of source code lines\n",
    "        original_line = line.strip()\n",
    "        \n",
    "        # Tokenize the line using the trained tokenizer\n",
    "        tokenized_line = tokenizer.encode(original_line)\n",
    "\n",
    "        # Decode the tokenized line back to text\n",
    "        decoded_line = tokenizer.decode(tokenized_line)\n",
    "\n",
    "        # Check if the decoded line matches the original line\n",
    "        if decoded_line.strip() == original_line:\n",
    "            correct_tokenizations += 1\n",
    "\n",
    "        total_tokenizations += 1\n",
    "\n",
    "    accuracy = correct_tokenizations / total_tokenizations\n",
    "    print(f\"Total lines: {total_tokenizations}\")\n",
    "    print(f\"Tokenization Accuracy: {accuracy * 100:.2f}%\")\n",
    "\n",
    "# Example usage\n",
    "\n",
    "\n",
    "# Train the tokenizer with progress bar\n",
    "\n",
    "test_file = \"Juliet2_TEST.txt\"\n",
    "\n",
    "with open(test_file, 'r', encoding='utf-8') as file:\n",
    "    test_lines = file.readlines()\n",
    "\n",
    "# Test the tokenizer\n",
    "tqdm.write(\"Starting tokenizer test:\")\n",
    "test_tokenizer(sp, test_lines)\n",
    "tqdm.write(\"Tokenizer test complete.\")"
   ]
  },
  {
   "cell_type": "markdown",
   "metadata": {},
   "source": []
  }
 ],
 "metadata": {
  "kernelspec": {
   "display_name": ".venv",
   "language": "python",
   "name": "python3"
  },
  "language_info": {
   "codemirror_mode": {
    "name": "ipython",
    "version": 3
   },
   "file_extension": ".py",
   "mimetype": "text/x-python",
   "name": "python",
   "nbconvert_exporter": "python",
   "pygments_lexer": "ipython3",
   "version": "3.11.2"
  }
 },
 "nbformat": 4,
 "nbformat_minor": 2
}
