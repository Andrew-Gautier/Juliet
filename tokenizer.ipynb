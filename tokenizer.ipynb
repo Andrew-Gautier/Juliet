{
 "cells": [
  {
   "cell_type": "markdown",
   "metadata": {},
   "source": [
    "2-7-24\n",
    "\n",
    "This is the record of attempts to take the first corpus, 1.0. and train a model on the embeddings created from it.\n",
    "\n"
   ]
  },
  {
   "cell_type": "code",
   "execution_count": 2,
   "metadata": {},
   "outputs": [
    {
     "name": "stdout",
     "output_type": "stream",
     "text": [
      "Error: Input file 'Juliet2_corpus.txt' not found.\n",
      "Preprocessing failed. Cannot train tokenizer.\n"
     ]
    }
   ],
   "source": [
    "import sentencepiece as spm\n",
    "from tqdm import tqdm\n",
    "import os\n",
    "\n",
    "input_file = \"Juliet2_corpus.txt\"\n",
    "output_model_prefix = \"m\"\n",
    "vocab_size = 15000\n",
    "model_type = \"bpe\"\n",
    "\n",
    "def preprocess(input_file):\n",
    "    try:\n",
    "        with open(input_file, \"r\", encoding='utf-8') as f:\n",
    "            text = f.read()\n",
    "    except FileNotFoundError:\n",
    "        print(f\"Error: Input file '{input_file}' not found.\")\n",
    "        return None\n",
    "\n",
    "    # Preprocessing steps\n",
    "    text = text.replace(\" \", \" SPACE\")\n",
    "    text = text.replace(\"\\n\", \" NEWLINE\")\n",
    "    text = text.replace(\"\\t\", \" TAB\")\n",
    "\n",
    "    temp_input_file = input_file + \".preprocessed\"\n",
    "    try:\n",
    "        with open(temp_input_file, 'w', encoding='utf-8') as file:\n",
    "            file.write(text)\n",
    "    except OSError as e:\n",
    "        print(f\"Error writing preprocessed file: {e}\")\n",
    "        return None\n",
    "\n",
    "    return temp_input_file\n",
    "\n",
    "def train_tokenizer(input_file, output_model_prefix, vocab_size, model_type):\n",
    "    tqdm.write(\"Training tokenizer:\")\n",
    "    try:\n",
    "        spm.SentencePieceTrainer.train(\n",
    "            input=input_file,\n",
    "            model_prefix=output_model_prefix,\n",
    "            vocab_size=vocab_size,\n",
    "            model_type=model_type,\n",
    "            num_threads=4,  # Set the number of threads for parallel processing during training\n",
    "            # Other training parameters as needed\n",
    "        )\n",
    "    except Exception as e:\n",
    "        print(f\"Error training tokenizer: {e}\")\n",
    "        return\n",
    "\n",
    "    tqdm.write(\"Training complete.\")\n",
    "\n",
    "# Iterate training for the specified number of iterations:\n",
    "temp_input_file = preprocess(input_file)\n",
    "if temp_input_file:\n",
    "    train_tokenizer(temp_input_file, output_model_prefix, vocab_size, model_type)\n",
    "    # Load the trained model\n",
    "    sp = spm.SentencePieceProcessor()\n",
    "    sp.Load(f\"{output_model_prefix}.model\")\n",
    "else:\n",
    "    print(\"Preprocessing failed. Cannot train tokenizer.\")\n"
   ]
  },
  {
   "cell_type": "code",
   "execution_count": 25,
   "metadata": {},
   "outputs": [
    {
     "name": "stdout",
     "output_type": "stream",
     "text": [
      "Starting tokenizer test:\n",
      "Total lines: 4876180\n",
      "Tokenization Accuracy: 49.58%\n",
      "Tokenizer test complete.\n"
     ]
    }
   ],
   "source": [
    "def test_tokenizer(tokenizer, test_lines):\n",
    "    correct_tokenizations = 0\n",
    "    total_tokenizations = len(test_lines)\n",
    "\n",
    "    for line in test_lines:\n",
    "        # Assuming test_lines is a list of source code lines\n",
    "        original_line = line.strip()\n",
    "        \n",
    "        # Tokenize the line using the trained tokenizer\n",
    "        tokenized_line = tokenizer.encode(original_line)\n",
    "\n",
    "        # Decode the tokenized line back to text\n",
    "        decoded_line = tokenizer.decode(tokenized_line)\n",
    "\n",
    "        # Check if the decoded line matches the original line\n",
    "        if decoded_line.strip() == original_line:\n",
    "            correct_tokenizations += 1\n",
    "\n",
    "        total_tokenizations += 1\n",
    "\n",
    "    accuracy = correct_tokenizations / total_tokenizations\n",
    "    print(f\"Total lines: {total_tokenizations}\")\n",
    "    print(f\"Tokenization Accuracy: {accuracy * 100:.2f}%\")\n",
    "\n",
    "# Example usage\n",
    "\n",
    "\n",
    "# Train the tokenizer with progress bar\n",
    "\n",
    "test_file = \"Juliet2_TEST.txt\"\n",
    "\n",
    "with open(test_file, 'r', encoding='utf-8') as file:\n",
    "    test_lines = file.readlines()\n",
    "\n",
    "# Test the tokenizer\n",
    "tqdm.write(\"Starting tokenizer test:\")\n",
    "test_tokenizer(sp, test_lines)\n",
    "tqdm.write(\"Tokenizer test complete.\")"
   ]
  },
  {
   "cell_type": "markdown",
   "metadata": {},
   "source": [
    "### Picking up with the aiXcoder=7B model\n",
    "\n",
    "Fortunately for me, I stumbled across a rising repository that is pruports to be a foundational model for Code. If this is the case, I would imagine that it would get a 90+ precent tokenization accuracy on my raw Juliet sentences. There are also some positional sequenceing work done with some (ROPE) and transformer architecture that I am only partially familar with. For now I just want to see how well it generally tokenizes wild code. \n",
    "\n",
    "<br>\n",
    "4-14-24 TEST 1<br>\n",
    "RESULTS: TBD <br>\n",
    "DEPENDENCES: trying to incorporate the aiXcoder-7B straight from its Hugging Face transformers library, and hope that it plays nice with what I have here because I really want to use it on the fly here. If not I can also start totally clean with a docker image. <br>\n"
   ]
  },
  {
   "cell_type": "code",
   "execution_count": 7,
   "metadata": {},
   "outputs": [
    {
     "name": "stdout",
     "output_type": "stream",
     "text": [
      "Starting model test:\n"
     ]
    },
    {
     "name": "stderr",
     "output_type": "stream",
     "text": [
      "Tokenizing: 100%|██████████| 12604386/12604386 [01:10<00:00, 178111.50it/s]\n"
     ]
    },
    {
     "name": "stdout",
     "output_type": "stream",
     "text": [
      "Total lines: 12604386\n",
      "Tokenization Accuracy: 100.00%\n"
     ]
    },
    {
     "data": {
      "image/png": "[encoded data removed]",
      "text/plain": [
       "<Figure size 640x480 with 1 Axes>"
      ]
     },
     "metadata": {},
     "output_type": "display_data"
    },
    {
     "name": "stdout",
     "output_type": "stream",
     "text": [
      "Model test complete.\n"
     ]
    }
   ],
   "source": [
    "import sentencepiece as spm\n",
    "from tqdm import tqdm\n",
    "import time\n",
    "import matplotlib.pyplot as plt\n",
    "\n",
    "# Load SentencePiece model from local file\n",
    "sp = spm.SentencePieceProcessor()\n",
    "sp.Load('tokenizer.model')\n",
    "\n",
    "def test_model(sp, test_lines):\n",
    "    correct_tokenizations = 0\n",
    "    total_tokenizations = len(test_lines)\n",
    "    accuracies = []\n",
    "    times = []\n",
    "    start_time = time.time()\n",
    "\n",
    "    for line in tqdm(test_lines, desc=\"Tokenizing\"):\n",
    "        # Assuming test_lines is a list of source code lines\n",
    "        original_line = line.strip()\n",
    "        \n",
    "        # Tokenize the line using the SentencePiece model\n",
    "        tokenized_line = sp.EncodeAsPieces(original_line)\n",
    "\n",
    "        # Decode the tokenized line back to text\n",
    "        decoded_line = ''.join(tokenized_line).replace('▁', ' ')\n",
    "\n",
    "        # Check if the decoded line matches the original line\n",
    "        if decoded_line.strip() == original_line:\n",
    "            correct_tokenizations += 1\n",
    "\n",
    "        # Calculate accuracy and elapsed time and append to lists\n",
    "        accuracy = correct_tokenizations / (total_tokenizations + 1)\n",
    "        accuracies.append(accuracy)\n",
    "        times.append(time.time() - start_time)\n",
    "\n",
    "    print(f\"Total lines: {total_tokenizations}\")\n",
    "    print(f\"Tokenization Accuracy: {accuracy * 100:.2f}%\")\n",
    "\n",
    "    # Plot accuracy versus time\n",
    "    plt.plot(times, accuracies)\n",
    "    plt.xlabel('Time (seconds)')\n",
    "    plt.ylabel('Accuracy')\n",
    "    plt.title('Accuracy vs Time')\n",
    "    plt.show()\n",
    "\n",
    "# Example usage\n",
    "with open('C:\\\\Users\\\\Andrew\\\\Desktop\\\\nasa_project\\\\Juliet\\\\Large Files\\\\Juliet2_Corpus.txt', 'r') as f:\n",
    "    lines = f.readlines()\n",
    "\n",
    "# Test the model\n",
    "print(\"Starting model test:\")\n",
    "test_model(sp, lines)\n",
    "print(\"Model test complete.\")"
   ]
  },
  {
   "cell_type": "markdown",
   "metadata": {},
   "source": [
    "Sanity check against english sentences. "
   ]
  },
  {
   "cell_type": "code",
   "execution_count": 9,
   "metadata": {},
   "outputs": [
    {
     "name": "stdout",
     "output_type": "stream",
     "text": [
      "Starting model test:\n"
     ]
    },
    {
     "name": "stderr",
     "output_type": "stream",
     "text": [
      "Tokenizing: 100%|██████████| 20000/20000 [00:00<00:00, 145983.28it/s]"
     ]
    },
    {
     "name": "stdout",
     "output_type": "stream",
     "text": [
      "Total lines: 20000\n",
      "Tokenization Accuracy: 100.00%\n"
     ]
    },
    {
     "name": "stderr",
     "output_type": "stream",
     "text": [
      "\n"
     ]
    },
    {
     "data": {
      "image/png": "[encoded data removed]",
      "text/plain": [
       "<Figure size 640x480 with 1 Axes>"
      ]
     },
     "metadata": {},
     "output_type": "display_data"
    },
    {
     "name": "stdout",
     "output_type": "stream",
     "text": [
      "Model test complete.\n"
     ]
    }
   ],
   "source": [
    "# Example usage\n",
    "with open('C:\\\\Users\\\\Andrew\\\\Desktop\\\\nasa_project\\\\Juliet\\\\Large Files\\\\eng_sentences.txt', 'r') as f:\n",
    "    lines = f.readlines()\n",
    "\n",
    "# Test the model\n",
    "print(\"Starting model test:\")\n",
    "test_model(sp, lines)\n",
    "print(\"Model test complete.\")"
   ]
  },
  {
   "cell_type": "markdown",
   "metadata": {},
   "source": [
    "Will it perform the same on French Sentences?"
   ]
  },
  {
   "cell_type": "code",
   "execution_count": 10,
   "metadata": {},
   "outputs": [
    {
     "ename": "UnicodeDecodeError",
     "evalue": "'charmap' codec can't decode byte 0x8d in position 2552: character maps to <undefined>",
     "output_type": "error",
     "traceback": [
      "\u001b[1;31m---------------------------------------------------------------------------\u001b[0m",
      "\u001b[1;31mUnicodeDecodeError\u001b[0m                        Traceback (most recent call last)",
      "Cell \u001b[1;32mIn[10], line 2\u001b[0m\n\u001b[0;32m      1\u001b[0m \u001b[38;5;28;01mwith\u001b[39;00m \u001b[38;5;28mopen\u001b[39m(\u001b[38;5;124m'\u001b[39m\u001b[38;5;124mC:\u001b[39m\u001b[38;5;130;01m\\\\\u001b[39;00m\u001b[38;5;124mUsers\u001b[39m\u001b[38;5;130;01m\\\\\u001b[39;00m\u001b[38;5;124mAndrew\u001b[39m\u001b[38;5;130;01m\\\\\u001b[39;00m\u001b[38;5;124mDesktop\u001b[39m\u001b[38;5;130;01m\\\\\u001b[39;00m\u001b[38;5;124mnasa_project\u001b[39m\u001b[38;5;130;01m\\\\\u001b[39;00m\u001b[38;5;124mJuliet\u001b[39m\u001b[38;5;130;01m\\\\\u001b[39;00m\u001b[38;5;124mLarge Files\u001b[39m\u001b[38;5;130;01m\\\\\u001b[39;00m\u001b[38;5;124mfra.txt\u001b[39m\u001b[38;5;124m'\u001b[39m, \u001b[38;5;124m'\u001b[39m\u001b[38;5;124mr\u001b[39m\u001b[38;5;124m'\u001b[39m) \u001b[38;5;28;01mas\u001b[39;00m f:\n\u001b[1;32m----> 2\u001b[0m     lines \u001b[38;5;241m=\u001b[39m \u001b[43mf\u001b[49m\u001b[38;5;241;43m.\u001b[39;49m\u001b[43mreadlines\u001b[49m\u001b[43m(\u001b[49m\u001b[43m)\u001b[49m\n\u001b[0;32m      4\u001b[0m \u001b[38;5;66;03m# Test the model\u001b[39;00m\n\u001b[0;32m      5\u001b[0m \u001b[38;5;28mprint\u001b[39m(\u001b[38;5;124m\"\u001b[39m\u001b[38;5;124mStarting model test:\u001b[39m\u001b[38;5;124m\"\u001b[39m)\n",
      "File \u001b[1;32m~\\AppData\\Local\\Programs\\Python\\Python311\\Lib\\encodings\\cp1252.py:23\u001b[0m, in \u001b[0;36mIncrementalDecoder.decode\u001b[1;34m(self, input, final)\u001b[0m\n\u001b[0;32m     22\u001b[0m \u001b[38;5;28;01mdef\u001b[39;00m \u001b[38;5;21mdecode\u001b[39m(\u001b[38;5;28mself\u001b[39m, \u001b[38;5;28minput\u001b[39m, final\u001b[38;5;241m=\u001b[39m\u001b[38;5;28;01mFalse\u001b[39;00m):\n\u001b[1;32m---> 23\u001b[0m     \u001b[38;5;28;01mreturn\u001b[39;00m codecs\u001b[38;5;241m.\u001b[39mcharmap_decode(\u001b[38;5;28minput\u001b[39m,\u001b[38;5;28mself\u001b[39m\u001b[38;5;241m.\u001b[39merrors,decoding_table)[\u001b[38;5;241m0\u001b[39m]\n",
      "\u001b[1;31mUnicodeDecodeError\u001b[0m: 'charmap' codec can't decode byte 0x8d in position 2552: character maps to <undefined>"
     ]
    }
   ],
   "source": [
    "with open('C:\\\\Users\\\\Andrew\\\\Desktop\\\\nasa_project\\\\Juliet\\\\Large Files\\\\output_sentences.txt', 'r') as f:\n",
    "    lines = f.readlines()\n",
    "\n",
    "# Test the model\n",
    "print(\"Starting model test:\")\n",
    "test_model(sp, lines)\n",
    "print(\"Model test complete.\")"
   ]
  }
 ],
 "metadata": {
  "kernelspec": {
   "display_name": ".venv",
   "language": "python",
   "name": "python3"
  },
  "language_info": {
   "codemirror_mode": {
    "name": "ipython",
    "version": 3
   },
   "file_extension": ".py",
   "mimetype": "text/x-python",
   "name": "python",
   "nbconvert_exporter": "python",
   "pygments_lexer": "ipython3",
   "version": "3.11.2"
  }
 },
 "nbformat": 4,
 "nbformat_minor": 2
}
